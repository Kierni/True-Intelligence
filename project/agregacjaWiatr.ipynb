{
 "cells": [
  {
   "metadata": {
    "ExecuteTime": {
     "end_time": "2024-12-08T09:07:38.590760Z",
     "start_time": "2024-12-08T09:07:38.586250Z"
    }
   },
   "cell_type": "code",
   "source": "import pandas as pd",
   "id": "c23f862d9fc6513e",
   "outputs": [],
   "execution_count": 103
  },
  {
   "metadata": {
    "ExecuteTime": {
     "end_time": "2024-12-08T09:07:38.870837Z",
     "start_time": "2024-12-08T09:07:38.611350Z"
    }
   },
   "cell_type": "code",
   "source": [
    "df_produkcja = pd.read_csv('electricity_production_entsoe_all.csv')\n",
    "df_fg = pd.read_csv('fg_data_for_location.csv')\n",
    "df_maxProdukcja = pd.read_csv('installed_capacity_entsoe_all.csv')"
   ],
   "id": "c59caf4945af73a6",
   "outputs": [],
   "execution_count": 104
  },
  {
   "metadata": {
    "ExecuteTime": {
     "end_time": "2024-12-08T09:07:39.408799Z",
     "start_time": "2024-12-08T09:07:38.912769Z"
    }
   },
   "cell_type": "code",
   "source": [
    "df_produkcja = df_produkcja[['date', 'wind_onshore']]\n",
    "df_produkcja['date'] = pd.to_datetime(df_produkcja['date'], format='%d.%m.%Y %H:%M', errors='coerce')\n",
    "df_produkcja.set_index('date', inplace=True)\n",
    "# Grupowanie po godzinie i obliczanie średniej dla każdej godziny\n",
    "df_produkcja = df_produkcja.resample('D').mean()\n",
    "df_produkcja.dropna(inplace=True)\n",
    "df_produkcja.head()"
   ],
   "id": "385422f21edbfbb5",
   "outputs": [
    {
     "data": {
      "text/plain": [
       "            wind_onshore\n",
       "date                    \n",
       "2015-01-02   3233.791667\n",
       "2015-01-03   3374.375000\n",
       "2015-01-04   3212.333333\n",
       "2015-01-05   1804.541667\n",
       "2015-01-06    770.791667"
      ],
      "text/html": [
       "<div>\n",
       "<style scoped>\n",
       "    .dataframe tbody tr th:only-of-type {\n",
       "        vertical-align: middle;\n",
       "    }\n",
       "\n",
       "    .dataframe tbody tr th {\n",
       "        vertical-align: top;\n",
       "    }\n",
       "\n",
       "    .dataframe thead th {\n",
       "        text-align: right;\n",
       "    }\n",
       "</style>\n",
       "<table border=\"1\" class=\"dataframe\">\n",
       "  <thead>\n",
       "    <tr style=\"text-align: right;\">\n",
       "      <th></th>\n",
       "      <th>wind_onshore</th>\n",
       "    </tr>\n",
       "    <tr>\n",
       "      <th>date</th>\n",
       "      <th></th>\n",
       "    </tr>\n",
       "  </thead>\n",
       "  <tbody>\n",
       "    <tr>\n",
       "      <th>2015-01-02</th>\n",
       "      <td>3233.791667</td>\n",
       "    </tr>\n",
       "    <tr>\n",
       "      <th>2015-01-03</th>\n",
       "      <td>3374.375000</td>\n",
       "    </tr>\n",
       "    <tr>\n",
       "      <th>2015-01-04</th>\n",
       "      <td>3212.333333</td>\n",
       "    </tr>\n",
       "    <tr>\n",
       "      <th>2015-01-05</th>\n",
       "      <td>1804.541667</td>\n",
       "    </tr>\n",
       "    <tr>\n",
       "      <th>2015-01-06</th>\n",
       "      <td>770.791667</td>\n",
       "    </tr>\n",
       "  </tbody>\n",
       "</table>\n",
       "</div>"
      ]
     },
     "execution_count": 105,
     "metadata": {},
     "output_type": "execute_result"
    }
   ],
   "execution_count": 105
  },
  {
   "metadata": {
    "ExecuteTime": {
     "end_time": "2024-12-08T09:07:39.493926Z",
     "start_time": "2024-12-08T09:07:39.481516Z"
    }
   },
   "cell_type": "code",
   "source": "df_fg.head()",
   "id": "5f17930a9cc52f50",
   "outputs": [
    {
     "data": {
      "text/plain": [
       "                  Date  Wind Speed\n",
       "0  2011-01-01 00:00:00        4.35\n",
       "1  2011-01-02 00:00:00        4.88\n",
       "2  2011-01-03 00:00:00        1.76\n",
       "3  2011-01-04 00:00:00        1.44\n",
       "4  2011-01-05 00:00:00        1.85"
      ],
      "text/html": [
       "<div>\n",
       "<style scoped>\n",
       "    .dataframe tbody tr th:only-of-type {\n",
       "        vertical-align: middle;\n",
       "    }\n",
       "\n",
       "    .dataframe tbody tr th {\n",
       "        vertical-align: top;\n",
       "    }\n",
       "\n",
       "    .dataframe thead th {\n",
       "        text-align: right;\n",
       "    }\n",
       "</style>\n",
       "<table border=\"1\" class=\"dataframe\">\n",
       "  <thead>\n",
       "    <tr style=\"text-align: right;\">\n",
       "      <th></th>\n",
       "      <th>Date</th>\n",
       "      <th>Wind Speed</th>\n",
       "    </tr>\n",
       "  </thead>\n",
       "  <tbody>\n",
       "    <tr>\n",
       "      <th>0</th>\n",
       "      <td>2011-01-01 00:00:00</td>\n",
       "      <td>4.35</td>\n",
       "    </tr>\n",
       "    <tr>\n",
       "      <th>1</th>\n",
       "      <td>2011-01-02 00:00:00</td>\n",
       "      <td>4.88</td>\n",
       "    </tr>\n",
       "    <tr>\n",
       "      <th>2</th>\n",
       "      <td>2011-01-03 00:00:00</td>\n",
       "      <td>1.76</td>\n",
       "    </tr>\n",
       "    <tr>\n",
       "      <th>3</th>\n",
       "      <td>2011-01-04 00:00:00</td>\n",
       "      <td>1.44</td>\n",
       "    </tr>\n",
       "    <tr>\n",
       "      <th>4</th>\n",
       "      <td>2011-01-05 00:00:00</td>\n",
       "      <td>1.85</td>\n",
       "    </tr>\n",
       "  </tbody>\n",
       "</table>\n",
       "</div>"
      ]
     },
     "execution_count": 106,
     "metadata": {},
     "output_type": "execute_result"
    }
   ],
   "execution_count": 106
  },
  {
   "metadata": {
    "ExecuteTime": {
     "end_time": "2024-12-08T09:07:39.625677Z",
     "start_time": "2024-12-08T09:07:39.608497Z"
    }
   },
   "cell_type": "code",
   "source": [
    "df_maxProdukcja['windMax'] = df_maxProdukcja['wind']\n",
    "df_maxProdukcja = df_maxProdukcja[['date', 'windMax']]\n",
    "df_maxProdukcja.head()"
   ],
   "id": "f29f7a04f4264c7e",
   "outputs": [
    {
     "data": {
      "text/plain": [
       "   date  windMax\n",
       "0  2015   3758.0\n",
       "1  2016   5494.0\n",
       "2  2017   6026.0\n",
       "3  2018   5791.0\n",
       "4  2019   5808.0"
      ],
      "text/html": [
       "<div>\n",
       "<style scoped>\n",
       "    .dataframe tbody tr th:only-of-type {\n",
       "        vertical-align: middle;\n",
       "    }\n",
       "\n",
       "    .dataframe tbody tr th {\n",
       "        vertical-align: top;\n",
       "    }\n",
       "\n",
       "    .dataframe thead th {\n",
       "        text-align: right;\n",
       "    }\n",
       "</style>\n",
       "<table border=\"1\" class=\"dataframe\">\n",
       "  <thead>\n",
       "    <tr style=\"text-align: right;\">\n",
       "      <th></th>\n",
       "      <th>date</th>\n",
       "      <th>windMax</th>\n",
       "    </tr>\n",
       "  </thead>\n",
       "  <tbody>\n",
       "    <tr>\n",
       "      <th>0</th>\n",
       "      <td>2015</td>\n",
       "      <td>3758.0</td>\n",
       "    </tr>\n",
       "    <tr>\n",
       "      <th>1</th>\n",
       "      <td>2016</td>\n",
       "      <td>5494.0</td>\n",
       "    </tr>\n",
       "    <tr>\n",
       "      <th>2</th>\n",
       "      <td>2017</td>\n",
       "      <td>6026.0</td>\n",
       "    </tr>\n",
       "    <tr>\n",
       "      <th>3</th>\n",
       "      <td>2018</td>\n",
       "      <td>5791.0</td>\n",
       "    </tr>\n",
       "    <tr>\n",
       "      <th>4</th>\n",
       "      <td>2019</td>\n",
       "      <td>5808.0</td>\n",
       "    </tr>\n",
       "  </tbody>\n",
       "</table>\n",
       "</div>"
      ]
     },
     "execution_count": 107,
     "metadata": {},
     "output_type": "execute_result"
    }
   ],
   "execution_count": 107
  },
  {
   "metadata": {
    "ExecuteTime": {
     "end_time": "2024-12-08T09:07:39.777138Z",
     "start_time": "2024-12-08T09:07:39.767882Z"
    }
   },
   "cell_type": "code",
   "source": "df_produkcja.dtypes",
   "id": "eb75ba44710a56e9",
   "outputs": [
    {
     "data": {
      "text/plain": [
       "wind_onshore    float64\n",
       "dtype: object"
      ]
     },
     "execution_count": 108,
     "metadata": {},
     "output_type": "execute_result"
    }
   ],
   "execution_count": 108
  },
  {
   "metadata": {
    "ExecuteTime": {
     "end_time": "2024-12-08T09:07:39.900130Z",
     "start_time": "2024-12-08T09:07:39.887744Z"
    }
   },
   "cell_type": "code",
   "source": "df_fg.dtypes",
   "id": "32a706cfbaff409b",
   "outputs": [
    {
     "data": {
      "text/plain": [
       "Date           object\n",
       "Wind Speed    float64\n",
       "dtype: object"
      ]
     },
     "execution_count": 109,
     "metadata": {},
     "output_type": "execute_result"
    }
   ],
   "execution_count": 109
  },
  {
   "metadata": {
    "ExecuteTime": {
     "end_time": "2024-12-08T09:07:40.047067Z",
     "start_time": "2024-12-08T09:07:40.032907Z"
    }
   },
   "cell_type": "code",
   "source": [
    "\n",
    "df_fg['datetime'] = pd.to_datetime(df_fg['Date'], errors='coerce')\n",
    "df_fg['year'] = df_fg['datetime'].dt.year\n",
    "df_fg.set_index('datetime', inplace=True)"
   ],
   "id": "2902fa72358fcf56",
   "outputs": [],
   "execution_count": 110
  },
  {
   "metadata": {
    "ExecuteTime": {
     "end_time": "2024-12-08T09:07:40.151079Z",
     "start_time": "2024-12-08T09:07:40.143344Z"
    }
   },
   "cell_type": "code",
   "source": [
    "# Połącz dwa zestawy danych na podstawie indeksu\n",
    "df_combined = df_produkcja.join(df_fg, how='inner') \n",
    "df_combined.reset_index(inplace=True)\n"
   ],
   "id": "d829c7adbca50c11",
   "outputs": [],
   "execution_count": 111
  },
  {
   "metadata": {
    "ExecuteTime": {
     "end_time": "2024-12-08T09:07:40.211781Z",
     "start_time": "2024-12-08T09:07:40.199922Z"
    }
   },
   "cell_type": "code",
   "source": "df_combined.head()",
   "id": "e7b54d2ae1e60fd8",
   "outputs": [
    {
     "data": {
      "text/plain": [
       "       index  wind_onshore                 Date  Wind Speed  year\n",
       "0 2015-01-02   3233.791667  2015-01-02 00:00:00        5.18  2015\n",
       "1 2015-01-03   3374.375000  2015-01-03 00:00:00        5.71  2015\n",
       "2 2015-01-04   3212.333333  2015-01-04 00:00:00        4.06  2015\n",
       "3 2015-01-05   1804.541667  2015-01-05 00:00:00        2.24  2015\n",
       "4 2015-01-06    770.791667  2015-01-06 00:00:00        1.88  2015"
      ],
      "text/html": [
       "<div>\n",
       "<style scoped>\n",
       "    .dataframe tbody tr th:only-of-type {\n",
       "        vertical-align: middle;\n",
       "    }\n",
       "\n",
       "    .dataframe tbody tr th {\n",
       "        vertical-align: top;\n",
       "    }\n",
       "\n",
       "    .dataframe thead th {\n",
       "        text-align: right;\n",
       "    }\n",
       "</style>\n",
       "<table border=\"1\" class=\"dataframe\">\n",
       "  <thead>\n",
       "    <tr style=\"text-align: right;\">\n",
       "      <th></th>\n",
       "      <th>index</th>\n",
       "      <th>wind_onshore</th>\n",
       "      <th>Date</th>\n",
       "      <th>Wind Speed</th>\n",
       "      <th>year</th>\n",
       "    </tr>\n",
       "  </thead>\n",
       "  <tbody>\n",
       "    <tr>\n",
       "      <th>0</th>\n",
       "      <td>2015-01-02</td>\n",
       "      <td>3233.791667</td>\n",
       "      <td>2015-01-02 00:00:00</td>\n",
       "      <td>5.18</td>\n",
       "      <td>2015</td>\n",
       "    </tr>\n",
       "    <tr>\n",
       "      <th>1</th>\n",
       "      <td>2015-01-03</td>\n",
       "      <td>3374.375000</td>\n",
       "      <td>2015-01-03 00:00:00</td>\n",
       "      <td>5.71</td>\n",
       "      <td>2015</td>\n",
       "    </tr>\n",
       "    <tr>\n",
       "      <th>2</th>\n",
       "      <td>2015-01-04</td>\n",
       "      <td>3212.333333</td>\n",
       "      <td>2015-01-04 00:00:00</td>\n",
       "      <td>4.06</td>\n",
       "      <td>2015</td>\n",
       "    </tr>\n",
       "    <tr>\n",
       "      <th>3</th>\n",
       "      <td>2015-01-05</td>\n",
       "      <td>1804.541667</td>\n",
       "      <td>2015-01-05 00:00:00</td>\n",
       "      <td>2.24</td>\n",
       "      <td>2015</td>\n",
       "    </tr>\n",
       "    <tr>\n",
       "      <th>4</th>\n",
       "      <td>2015-01-06</td>\n",
       "      <td>770.791667</td>\n",
       "      <td>2015-01-06 00:00:00</td>\n",
       "      <td>1.88</td>\n",
       "      <td>2015</td>\n",
       "    </tr>\n",
       "  </tbody>\n",
       "</table>\n",
       "</div>"
      ]
     },
     "execution_count": 112,
     "metadata": {},
     "output_type": "execute_result"
    }
   ],
   "execution_count": 112
  },
  {
   "metadata": {
    "ExecuteTime": {
     "end_time": "2024-12-08T09:07:40.302647Z",
     "start_time": "2024-12-08T09:07:40.290652Z"
    }
   },
   "cell_type": "code",
   "source": [
    "df_combined = pd.merge(df_combined, df_maxProdukcja[['date', 'windMax']],  left_on='year', right_on='date', how='left')\n",
    "\n",
    "df_combined['efficiency'] = df_combined['wind_onshore'] / df_combined['windMax']\n"
   ],
   "id": "f4b2860794d1e0b1",
   "outputs": [],
   "execution_count": 113
  },
  {
   "metadata": {
    "ExecuteTime": {
     "end_time": "2024-12-08T09:07:40.378376Z",
     "start_time": "2024-12-08T09:07:40.360177Z"
    }
   },
   "cell_type": "code",
   "source": "df_combined.head()",
   "id": "e43a7d3c469c02fa",
   "outputs": [
    {
     "data": {
      "text/plain": [
       "       index  wind_onshore                 Date  Wind Speed  year  date  \\\n",
       "0 2015-01-02   3233.791667  2015-01-02 00:00:00        5.18  2015  2015   \n",
       "1 2015-01-03   3374.375000  2015-01-03 00:00:00        5.71  2015  2015   \n",
       "2 2015-01-04   3212.333333  2015-01-04 00:00:00        4.06  2015  2015   \n",
       "3 2015-01-05   1804.541667  2015-01-05 00:00:00        2.24  2015  2015   \n",
       "4 2015-01-06    770.791667  2015-01-06 00:00:00        1.88  2015  2015   \n",
       "\n",
       "   windMax  efficiency  \n",
       "0   3758.0    0.860509  \n",
       "1   3758.0    0.897918  \n",
       "2   3758.0    0.854799  \n",
       "3   3758.0    0.480187  \n",
       "4   3758.0    0.205107  "
      ],
      "text/html": [
       "<div>\n",
       "<style scoped>\n",
       "    .dataframe tbody tr th:only-of-type {\n",
       "        vertical-align: middle;\n",
       "    }\n",
       "\n",
       "    .dataframe tbody tr th {\n",
       "        vertical-align: top;\n",
       "    }\n",
       "\n",
       "    .dataframe thead th {\n",
       "        text-align: right;\n",
       "    }\n",
       "</style>\n",
       "<table border=\"1\" class=\"dataframe\">\n",
       "  <thead>\n",
       "    <tr style=\"text-align: right;\">\n",
       "      <th></th>\n",
       "      <th>index</th>\n",
       "      <th>wind_onshore</th>\n",
       "      <th>Date</th>\n",
       "      <th>Wind Speed</th>\n",
       "      <th>year</th>\n",
       "      <th>date</th>\n",
       "      <th>windMax</th>\n",
       "      <th>efficiency</th>\n",
       "    </tr>\n",
       "  </thead>\n",
       "  <tbody>\n",
       "    <tr>\n",
       "      <th>0</th>\n",
       "      <td>2015-01-02</td>\n",
       "      <td>3233.791667</td>\n",
       "      <td>2015-01-02 00:00:00</td>\n",
       "      <td>5.18</td>\n",
       "      <td>2015</td>\n",
       "      <td>2015</td>\n",
       "      <td>3758.0</td>\n",
       "      <td>0.860509</td>\n",
       "    </tr>\n",
       "    <tr>\n",
       "      <th>1</th>\n",
       "      <td>2015-01-03</td>\n",
       "      <td>3374.375000</td>\n",
       "      <td>2015-01-03 00:00:00</td>\n",
       "      <td>5.71</td>\n",
       "      <td>2015</td>\n",
       "      <td>2015</td>\n",
       "      <td>3758.0</td>\n",
       "      <td>0.897918</td>\n",
       "    </tr>\n",
       "    <tr>\n",
       "      <th>2</th>\n",
       "      <td>2015-01-04</td>\n",
       "      <td>3212.333333</td>\n",
       "      <td>2015-01-04 00:00:00</td>\n",
       "      <td>4.06</td>\n",
       "      <td>2015</td>\n",
       "      <td>2015</td>\n",
       "      <td>3758.0</td>\n",
       "      <td>0.854799</td>\n",
       "    </tr>\n",
       "    <tr>\n",
       "      <th>3</th>\n",
       "      <td>2015-01-05</td>\n",
       "      <td>1804.541667</td>\n",
       "      <td>2015-01-05 00:00:00</td>\n",
       "      <td>2.24</td>\n",
       "      <td>2015</td>\n",
       "      <td>2015</td>\n",
       "      <td>3758.0</td>\n",
       "      <td>0.480187</td>\n",
       "    </tr>\n",
       "    <tr>\n",
       "      <th>4</th>\n",
       "      <td>2015-01-06</td>\n",
       "      <td>770.791667</td>\n",
       "      <td>2015-01-06 00:00:00</td>\n",
       "      <td>1.88</td>\n",
       "      <td>2015</td>\n",
       "      <td>2015</td>\n",
       "      <td>3758.0</td>\n",
       "      <td>0.205107</td>\n",
       "    </tr>\n",
       "  </tbody>\n",
       "</table>\n",
       "</div>"
      ]
     },
     "execution_count": 114,
     "metadata": {},
     "output_type": "execute_result"
    }
   ],
   "execution_count": 114
  },
  {
   "metadata": {
    "ExecuteTime": {
     "end_time": "2024-12-08T09:07:40.462180Z",
     "start_time": "2024-12-08T09:07:40.455770Z"
    }
   },
   "cell_type": "code",
   "source": [
    "df_combined.reset_index(inplace=True) \n",
    "\n",
    "# df_combined.head()"
   ],
   "id": "a8443839ff237b45",
   "outputs": [],
   "execution_count": 115
  },
  {
   "metadata": {
    "ExecuteTime": {
     "end_time": "2024-12-08T09:07:40.539182Z",
     "start_time": "2024-12-08T09:07:40.528778Z"
    }
   },
   "cell_type": "code",
   "source": "print(df_combined.columns)",
   "id": "9c3c4ab624e7e377",
   "outputs": [
    {
     "name": "stdout",
     "output_type": "stream",
     "text": [
      "Index(['level_0', 'index', 'wind_onshore', 'Date', 'Wind Speed', 'year',\n",
      "       'date', 'windMax', 'efficiency'],\n",
      "      dtype='object')\n"
     ]
    }
   ],
   "execution_count": 116
  },
  {
   "metadata": {
    "ExecuteTime": {
     "end_time": "2024-12-08T09:07:40.670559Z",
     "start_time": "2024-12-08T09:07:40.641117Z"
    }
   },
   "cell_type": "code",
   "source": "df_combined.head()",
   "id": "c279952af73de0a8",
   "outputs": [
    {
     "data": {
      "text/plain": [
       "   level_0      index  wind_onshore                 Date  Wind Speed  year  \\\n",
       "0        0 2015-01-02   3233.791667  2015-01-02 00:00:00        5.18  2015   \n",
       "1        1 2015-01-03   3374.375000  2015-01-03 00:00:00        5.71  2015   \n",
       "2        2 2015-01-04   3212.333333  2015-01-04 00:00:00        4.06  2015   \n",
       "3        3 2015-01-05   1804.541667  2015-01-05 00:00:00        2.24  2015   \n",
       "4        4 2015-01-06    770.791667  2015-01-06 00:00:00        1.88  2015   \n",
       "\n",
       "   date  windMax  efficiency  \n",
       "0  2015   3758.0    0.860509  \n",
       "1  2015   3758.0    0.897918  \n",
       "2  2015   3758.0    0.854799  \n",
       "3  2015   3758.0    0.480187  \n",
       "4  2015   3758.0    0.205107  "
      ],
      "text/html": [
       "<div>\n",
       "<style scoped>\n",
       "    .dataframe tbody tr th:only-of-type {\n",
       "        vertical-align: middle;\n",
       "    }\n",
       "\n",
       "    .dataframe tbody tr th {\n",
       "        vertical-align: top;\n",
       "    }\n",
       "\n",
       "    .dataframe thead th {\n",
       "        text-align: right;\n",
       "    }\n",
       "</style>\n",
       "<table border=\"1\" class=\"dataframe\">\n",
       "  <thead>\n",
       "    <tr style=\"text-align: right;\">\n",
       "      <th></th>\n",
       "      <th>level_0</th>\n",
       "      <th>index</th>\n",
       "      <th>wind_onshore</th>\n",
       "      <th>Date</th>\n",
       "      <th>Wind Speed</th>\n",
       "      <th>year</th>\n",
       "      <th>date</th>\n",
       "      <th>windMax</th>\n",
       "      <th>efficiency</th>\n",
       "    </tr>\n",
       "  </thead>\n",
       "  <tbody>\n",
       "    <tr>\n",
       "      <th>0</th>\n",
       "      <td>0</td>\n",
       "      <td>2015-01-02</td>\n",
       "      <td>3233.791667</td>\n",
       "      <td>2015-01-02 00:00:00</td>\n",
       "      <td>5.18</td>\n",
       "      <td>2015</td>\n",
       "      <td>2015</td>\n",
       "      <td>3758.0</td>\n",
       "      <td>0.860509</td>\n",
       "    </tr>\n",
       "    <tr>\n",
       "      <th>1</th>\n",
       "      <td>1</td>\n",
       "      <td>2015-01-03</td>\n",
       "      <td>3374.375000</td>\n",
       "      <td>2015-01-03 00:00:00</td>\n",
       "      <td>5.71</td>\n",
       "      <td>2015</td>\n",
       "      <td>2015</td>\n",
       "      <td>3758.0</td>\n",
       "      <td>0.897918</td>\n",
       "    </tr>\n",
       "    <tr>\n",
       "      <th>2</th>\n",
       "      <td>2</td>\n",
       "      <td>2015-01-04</td>\n",
       "      <td>3212.333333</td>\n",
       "      <td>2015-01-04 00:00:00</td>\n",
       "      <td>4.06</td>\n",
       "      <td>2015</td>\n",
       "      <td>2015</td>\n",
       "      <td>3758.0</td>\n",
       "      <td>0.854799</td>\n",
       "    </tr>\n",
       "    <tr>\n",
       "      <th>3</th>\n",
       "      <td>3</td>\n",
       "      <td>2015-01-05</td>\n",
       "      <td>1804.541667</td>\n",
       "      <td>2015-01-05 00:00:00</td>\n",
       "      <td>2.24</td>\n",
       "      <td>2015</td>\n",
       "      <td>2015</td>\n",
       "      <td>3758.0</td>\n",
       "      <td>0.480187</td>\n",
       "    </tr>\n",
       "    <tr>\n",
       "      <th>4</th>\n",
       "      <td>4</td>\n",
       "      <td>2015-01-06</td>\n",
       "      <td>770.791667</td>\n",
       "      <td>2015-01-06 00:00:00</td>\n",
       "      <td>1.88</td>\n",
       "      <td>2015</td>\n",
       "      <td>2015</td>\n",
       "      <td>3758.0</td>\n",
       "      <td>0.205107</td>\n",
       "    </tr>\n",
       "  </tbody>\n",
       "</table>\n",
       "</div>"
      ]
     },
     "execution_count": 117,
     "metadata": {},
     "output_type": "execute_result"
    }
   ],
   "execution_count": 117
  },
  {
   "metadata": {
    "ExecuteTime": {
     "end_time": "2024-12-08T09:07:40.754775Z",
     "start_time": "2024-12-08T09:07:40.739690Z"
    }
   },
   "cell_type": "code",
   "source": [
    "df_combined = df_combined[['index', 'Wind Speed', 'efficiency']]\n",
    "df_combined.max()"
   ],
   "id": "acdedd8f56ed8ea6",
   "outputs": [
    {
     "data": {
      "text/plain": [
       "index         2024-06-30 00:00:00\n",
       "Wind Speed                   8.59\n",
       "efficiency               1.069119\n",
       "dtype: object"
      ]
     },
     "execution_count": 118,
     "metadata": {},
     "output_type": "execute_result"
    }
   ],
   "execution_count": 118
  },
  {
   "metadata": {
    "ExecuteTime": {
     "end_time": "2024-12-08T09:07:40.878126Z",
     "start_time": "2024-12-08T09:07:40.865665Z"
    }
   },
   "cell_type": "code",
   "source": [
    "\n",
    "df_combined.head()"
   ],
   "id": "e3caafe2ff31e64b",
   "outputs": [
    {
     "data": {
      "text/plain": [
       "       index  Wind Speed  efficiency\n",
       "0 2015-01-02        5.18    0.860509\n",
       "1 2015-01-03        5.71    0.897918\n",
       "2 2015-01-04        4.06    0.854799\n",
       "3 2015-01-05        2.24    0.480187\n",
       "4 2015-01-06        1.88    0.205107"
      ],
      "text/html": [
       "<div>\n",
       "<style scoped>\n",
       "    .dataframe tbody tr th:only-of-type {\n",
       "        vertical-align: middle;\n",
       "    }\n",
       "\n",
       "    .dataframe tbody tr th {\n",
       "        vertical-align: top;\n",
       "    }\n",
       "\n",
       "    .dataframe thead th {\n",
       "        text-align: right;\n",
       "    }\n",
       "</style>\n",
       "<table border=\"1\" class=\"dataframe\">\n",
       "  <thead>\n",
       "    <tr style=\"text-align: right;\">\n",
       "      <th></th>\n",
       "      <th>index</th>\n",
       "      <th>Wind Speed</th>\n",
       "      <th>efficiency</th>\n",
       "    </tr>\n",
       "  </thead>\n",
       "  <tbody>\n",
       "    <tr>\n",
       "      <th>0</th>\n",
       "      <td>2015-01-02</td>\n",
       "      <td>5.18</td>\n",
       "      <td>0.860509</td>\n",
       "    </tr>\n",
       "    <tr>\n",
       "      <th>1</th>\n",
       "      <td>2015-01-03</td>\n",
       "      <td>5.71</td>\n",
       "      <td>0.897918</td>\n",
       "    </tr>\n",
       "    <tr>\n",
       "      <th>2</th>\n",
       "      <td>2015-01-04</td>\n",
       "      <td>4.06</td>\n",
       "      <td>0.854799</td>\n",
       "    </tr>\n",
       "    <tr>\n",
       "      <th>3</th>\n",
       "      <td>2015-01-05</td>\n",
       "      <td>2.24</td>\n",
       "      <td>0.480187</td>\n",
       "    </tr>\n",
       "    <tr>\n",
       "      <th>4</th>\n",
       "      <td>2015-01-06</td>\n",
       "      <td>1.88</td>\n",
       "      <td>0.205107</td>\n",
       "    </tr>\n",
       "  </tbody>\n",
       "</table>\n",
       "</div>"
      ]
     },
     "execution_count": 119,
     "metadata": {},
     "output_type": "execute_result"
    }
   ],
   "execution_count": 119
  },
  {
   "metadata": {
    "ExecuteTime": {
     "end_time": "2024-12-08T09:07:41.012529Z",
     "start_time": "2024-12-08T09:07:40.988124Z"
    }
   },
   "cell_type": "code",
   "source": [
    "# Zapis do pliku CSV\n",
    "df_combined.to_csv('datasetWind.csv', index=False)  # index=False, aby nie zapisywać indeksu\n",
    "\n",
    "print(\"Plik CSV został zapisany jako 'datasetWind.csv'\")"
   ],
   "id": "a0c7fcfd4d1a0533",
   "outputs": [
    {
     "name": "stdout",
     "output_type": "stream",
     "text": [
      "Plik CSV został zapisany jako 'datasetWind.csv'\n"
     ]
    }
   ],
   "execution_count": 120
  },
  {
   "metadata": {
    "ExecuteTime": {
     "end_time": "2024-12-08T09:07:41.092533Z",
     "start_time": "2024-12-08T09:07:41.088911Z"
    }
   },
   "cell_type": "code",
   "source": "",
   "id": "93a8299cb8acf67c",
   "outputs": [],
   "execution_count": null
  }
 ],
 "metadata": {
  "kernelspec": {
   "display_name": "Python 3",
   "language": "python",
   "name": "python3"
  },
  "language_info": {
   "codemirror_mode": {
    "name": "ipython",
    "version": 2
   },
   "file_extension": ".py",
   "mimetype": "text/x-python",
   "name": "python",
   "nbconvert_exporter": "python",
   "pygments_lexer": "ipython2",
   "version": "2.7.6"
  }
 },
 "nbformat": 4,
 "nbformat_minor": 5
}
