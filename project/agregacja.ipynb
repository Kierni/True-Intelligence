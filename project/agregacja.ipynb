{
 "cells": [
  {
   "metadata": {
    "ExecuteTime": {
     "end_time": "2024-12-08T09:07:21.935803Z",
     "start_time": "2024-12-08T09:07:20.462436Z"
    }
   },
   "cell_type": "code",
   "source": "import pandas as pd",
   "id": "c23f862d9fc6513e",
   "outputs": [],
   "execution_count": 1
  },
  {
   "metadata": {
    "ExecuteTime": {
     "end_time": "2024-12-08T09:07:22.337747Z",
     "start_time": "2024-12-08T09:07:21.942565Z"
    }
   },
   "cell_type": "code",
   "source": [
    "df_produkcja = pd.read_csv('electricity_production_entsoe_all.csv')\n",
    "df_qq = pd.read_csv('qq_data_for_location.csv')\n",
    "df_maxProdukcja = pd.read_csv('installed_capacity_entsoe_all.csv')"
   ],
   "id": "c59caf4945af73a6",
   "outputs": [],
   "execution_count": 2
  },
  {
   "metadata": {
    "ExecuteTime": {
     "end_time": "2024-12-08T09:07:23.075898Z",
     "start_time": "2024-12-08T09:07:22.594772Z"
    }
   },
   "cell_type": "code",
   "source": [
    "df_produkcja = df_produkcja[['date', 'solar']]\n",
    "df_produkcja['date'] = pd.to_datetime(df_produkcja['date'], format='%d.%m.%Y %H:%M', errors='coerce')\n",
    "df_produkcja.set_index('date', inplace=True)\n",
    "# Grupowanie po godzinie i obliczanie średniej dla każdej godziny\n",
    "df_produkcja = df_produkcja.resample('D').mean()\n",
    "df_produkcja.dropna(inplace=True)\n",
    "df_produkcja.head()"
   ],
   "id": "385422f21edbfbb5",
   "outputs": [
    {
     "data": {
      "text/plain": [
       "                 solar\n",
       "date                  \n",
       "2020-04-10  338.375000\n",
       "2020-04-11  362.333333\n",
       "2020-04-12  318.750000\n",
       "2020-04-13  141.625000\n",
       "2020-04-14  201.208333"
      ],
      "text/html": [
       "<div>\n",
       "<style scoped>\n",
       "    .dataframe tbody tr th:only-of-type {\n",
       "        vertical-align: middle;\n",
       "    }\n",
       "\n",
       "    .dataframe tbody tr th {\n",
       "        vertical-align: top;\n",
       "    }\n",
       "\n",
       "    .dataframe thead th {\n",
       "        text-align: right;\n",
       "    }\n",
       "</style>\n",
       "<table border=\"1\" class=\"dataframe\">\n",
       "  <thead>\n",
       "    <tr style=\"text-align: right;\">\n",
       "      <th></th>\n",
       "      <th>solar</th>\n",
       "    </tr>\n",
       "    <tr>\n",
       "      <th>date</th>\n",
       "      <th></th>\n",
       "    </tr>\n",
       "  </thead>\n",
       "  <tbody>\n",
       "    <tr>\n",
       "      <th>2020-04-10</th>\n",
       "      <td>338.375000</td>\n",
       "    </tr>\n",
       "    <tr>\n",
       "      <th>2020-04-11</th>\n",
       "      <td>362.333333</td>\n",
       "    </tr>\n",
       "    <tr>\n",
       "      <th>2020-04-12</th>\n",
       "      <td>318.750000</td>\n",
       "    </tr>\n",
       "    <tr>\n",
       "      <th>2020-04-13</th>\n",
       "      <td>141.625000</td>\n",
       "    </tr>\n",
       "    <tr>\n",
       "      <th>2020-04-14</th>\n",
       "      <td>201.208333</td>\n",
       "    </tr>\n",
       "  </tbody>\n",
       "</table>\n",
       "</div>"
      ]
     },
     "execution_count": 3,
     "metadata": {},
     "output_type": "execute_result"
    }
   ],
   "execution_count": 3
  },
  {
   "metadata": {
    "ExecuteTime": {
     "end_time": "2024-12-08T09:07:23.169499Z",
     "start_time": "2024-12-08T09:07:23.154287Z"
    }
   },
   "cell_type": "code",
   "source": "df_qq.head()",
   "id": "5f17930a9cc52f50",
   "outputs": [
    {
     "data": {
      "text/plain": [
       "                  Date  QQ\n",
       "0  2011-01-01 00:00:00  12\n",
       "1  2011-01-02 00:00:00  15\n",
       "2  2011-01-03 00:00:00  14\n",
       "3  2011-01-04 00:00:00  20\n",
       "4  2011-01-05 00:00:00  27"
      ],
      "text/html": [
       "<div>\n",
       "<style scoped>\n",
       "    .dataframe tbody tr th:only-of-type {\n",
       "        vertical-align: middle;\n",
       "    }\n",
       "\n",
       "    .dataframe tbody tr th {\n",
       "        vertical-align: top;\n",
       "    }\n",
       "\n",
       "    .dataframe thead th {\n",
       "        text-align: right;\n",
       "    }\n",
       "</style>\n",
       "<table border=\"1\" class=\"dataframe\">\n",
       "  <thead>\n",
       "    <tr style=\"text-align: right;\">\n",
       "      <th></th>\n",
       "      <th>Date</th>\n",
       "      <th>QQ</th>\n",
       "    </tr>\n",
       "  </thead>\n",
       "  <tbody>\n",
       "    <tr>\n",
       "      <th>0</th>\n",
       "      <td>2011-01-01 00:00:00</td>\n",
       "      <td>12</td>\n",
       "    </tr>\n",
       "    <tr>\n",
       "      <th>1</th>\n",
       "      <td>2011-01-02 00:00:00</td>\n",
       "      <td>15</td>\n",
       "    </tr>\n",
       "    <tr>\n",
       "      <th>2</th>\n",
       "      <td>2011-01-03 00:00:00</td>\n",
       "      <td>14</td>\n",
       "    </tr>\n",
       "    <tr>\n",
       "      <th>3</th>\n",
       "      <td>2011-01-04 00:00:00</td>\n",
       "      <td>20</td>\n",
       "    </tr>\n",
       "    <tr>\n",
       "      <th>4</th>\n",
       "      <td>2011-01-05 00:00:00</td>\n",
       "      <td>27</td>\n",
       "    </tr>\n",
       "  </tbody>\n",
       "</table>\n",
       "</div>"
      ]
     },
     "execution_count": 4,
     "metadata": {},
     "output_type": "execute_result"
    }
   ],
   "execution_count": 4
  },
  {
   "metadata": {
    "ExecuteTime": {
     "end_time": "2024-12-08T09:07:23.265177Z",
     "start_time": "2024-12-08T09:07:23.254501Z"
    }
   },
   "cell_type": "code",
   "source": [
    "df_maxProdukcja['solarMax'] = df_maxProdukcja['solar']\n",
    "df_maxProdukcja = df_maxProdukcja[['date', 'solarMax']]\n",
    "df_maxProdukcja.head()"
   ],
   "id": "f29f7a04f4264c7e",
   "outputs": [
    {
     "data": {
      "text/plain": [
       "   date  solarMax\n",
       "0  2015      14.0\n",
       "1  2016      77.0\n",
       "2  2017     187.0\n",
       "3  2018     231.0\n",
       "4  2019     430.0"
      ],
      "text/html": [
       "<div>\n",
       "<style scoped>\n",
       "    .dataframe tbody tr th:only-of-type {\n",
       "        vertical-align: middle;\n",
       "    }\n",
       "\n",
       "    .dataframe tbody tr th {\n",
       "        vertical-align: top;\n",
       "    }\n",
       "\n",
       "    .dataframe thead th {\n",
       "        text-align: right;\n",
       "    }\n",
       "</style>\n",
       "<table border=\"1\" class=\"dataframe\">\n",
       "  <thead>\n",
       "    <tr style=\"text-align: right;\">\n",
       "      <th></th>\n",
       "      <th>date</th>\n",
       "      <th>solarMax</th>\n",
       "    </tr>\n",
       "  </thead>\n",
       "  <tbody>\n",
       "    <tr>\n",
       "      <th>0</th>\n",
       "      <td>2015</td>\n",
       "      <td>14.0</td>\n",
       "    </tr>\n",
       "    <tr>\n",
       "      <th>1</th>\n",
       "      <td>2016</td>\n",
       "      <td>77.0</td>\n",
       "    </tr>\n",
       "    <tr>\n",
       "      <th>2</th>\n",
       "      <td>2017</td>\n",
       "      <td>187.0</td>\n",
       "    </tr>\n",
       "    <tr>\n",
       "      <th>3</th>\n",
       "      <td>2018</td>\n",
       "      <td>231.0</td>\n",
       "    </tr>\n",
       "    <tr>\n",
       "      <th>4</th>\n",
       "      <td>2019</td>\n",
       "      <td>430.0</td>\n",
       "    </tr>\n",
       "  </tbody>\n",
       "</table>\n",
       "</div>"
      ]
     },
     "execution_count": 5,
     "metadata": {},
     "output_type": "execute_result"
    }
   ],
   "execution_count": 5
  },
  {
   "metadata": {
    "ExecuteTime": {
     "end_time": "2024-12-08T09:07:23.470315Z",
     "start_time": "2024-12-08T09:07:23.461696Z"
    }
   },
   "cell_type": "code",
   "source": "df_produkcja.dtypes",
   "id": "eb75ba44710a56e9",
   "outputs": [
    {
     "data": {
      "text/plain": [
       "solar    float64\n",
       "dtype: object"
      ]
     },
     "execution_count": 6,
     "metadata": {},
     "output_type": "execute_result"
    }
   ],
   "execution_count": 6
  },
  {
   "metadata": {
    "ExecuteTime": {
     "end_time": "2024-12-08T09:07:23.604848Z",
     "start_time": "2024-12-08T09:07:23.591336Z"
    }
   },
   "cell_type": "code",
   "source": "df_qq.dtypes",
   "id": "32a706cfbaff409b",
   "outputs": [
    {
     "data": {
      "text/plain": [
       "Date    object\n",
       "QQ       int64\n",
       "dtype: object"
      ]
     },
     "execution_count": 7,
     "metadata": {},
     "output_type": "execute_result"
    }
   ],
   "execution_count": 7
  },
  {
   "metadata": {
    "ExecuteTime": {
     "end_time": "2024-12-08T09:07:23.803873Z",
     "start_time": "2024-12-08T09:07:23.787641Z"
    }
   },
   "cell_type": "code",
   "source": [
    "\n",
    "df_qq['datetime'] = pd.to_datetime(df_qq['Date'], errors='coerce')\n",
    "df_qq['year'] = df_qq['datetime'].dt.year\n",
    "df_qq.set_index('datetime', inplace=True)"
   ],
   "id": "2902fa72358fcf56",
   "outputs": [],
   "execution_count": 8
  },
  {
   "metadata": {
    "ExecuteTime": {
     "end_time": "2024-12-08T09:07:23.931724Z",
     "start_time": "2024-12-08T09:07:23.925093Z"
    }
   },
   "cell_type": "code",
   "source": [
    "# Połącz dwa zestawy danych na podstawie indeksu\n",
    "df_combined = df_produkcja.join(df_qq, how='inner') \n",
    "df_combined.reset_index(inplace=True)\n"
   ],
   "id": "d829c7adbca50c11",
   "outputs": [],
   "execution_count": 9
  },
  {
   "metadata": {
    "ExecuteTime": {
     "end_time": "2024-12-08T09:07:24.038767Z",
     "start_time": "2024-12-08T09:07:24.026455Z"
    }
   },
   "cell_type": "code",
   "source": "df_combined.head()",
   "id": "e7b54d2ae1e60fd8",
   "outputs": [
    {
     "data": {
      "text/plain": [
       "       index       solar                 Date   QQ  year\n",
       "0 2020-04-10  338.375000  2020-04-10 00:00:00  237  2020\n",
       "1 2020-04-11  362.333333  2020-04-11 00:00:00  245  2020\n",
       "2 2020-04-12  318.750000  2020-04-12 00:00:00  253  2020\n",
       "3 2020-04-13  141.625000  2020-04-13 00:00:00  137  2020\n",
       "4 2020-04-14  201.208333  2020-04-14 00:00:00  183  2020"
      ],
      "text/html": [
       "<div>\n",
       "<style scoped>\n",
       "    .dataframe tbody tr th:only-of-type {\n",
       "        vertical-align: middle;\n",
       "    }\n",
       "\n",
       "    .dataframe tbody tr th {\n",
       "        vertical-align: top;\n",
       "    }\n",
       "\n",
       "    .dataframe thead th {\n",
       "        text-align: right;\n",
       "    }\n",
       "</style>\n",
       "<table border=\"1\" class=\"dataframe\">\n",
       "  <thead>\n",
       "    <tr style=\"text-align: right;\">\n",
       "      <th></th>\n",
       "      <th>index</th>\n",
       "      <th>solar</th>\n",
       "      <th>Date</th>\n",
       "      <th>QQ</th>\n",
       "      <th>year</th>\n",
       "    </tr>\n",
       "  </thead>\n",
       "  <tbody>\n",
       "    <tr>\n",
       "      <th>0</th>\n",
       "      <td>2020-04-10</td>\n",
       "      <td>338.375000</td>\n",
       "      <td>2020-04-10 00:00:00</td>\n",
       "      <td>237</td>\n",
       "      <td>2020</td>\n",
       "    </tr>\n",
       "    <tr>\n",
       "      <th>1</th>\n",
       "      <td>2020-04-11</td>\n",
       "      <td>362.333333</td>\n",
       "      <td>2020-04-11 00:00:00</td>\n",
       "      <td>245</td>\n",
       "      <td>2020</td>\n",
       "    </tr>\n",
       "    <tr>\n",
       "      <th>2</th>\n",
       "      <td>2020-04-12</td>\n",
       "      <td>318.750000</td>\n",
       "      <td>2020-04-12 00:00:00</td>\n",
       "      <td>253</td>\n",
       "      <td>2020</td>\n",
       "    </tr>\n",
       "    <tr>\n",
       "      <th>3</th>\n",
       "      <td>2020-04-13</td>\n",
       "      <td>141.625000</td>\n",
       "      <td>2020-04-13 00:00:00</td>\n",
       "      <td>137</td>\n",
       "      <td>2020</td>\n",
       "    </tr>\n",
       "    <tr>\n",
       "      <th>4</th>\n",
       "      <td>2020-04-14</td>\n",
       "      <td>201.208333</td>\n",
       "      <td>2020-04-14 00:00:00</td>\n",
       "      <td>183</td>\n",
       "      <td>2020</td>\n",
       "    </tr>\n",
       "  </tbody>\n",
       "</table>\n",
       "</div>"
      ]
     },
     "execution_count": 10,
     "metadata": {},
     "output_type": "execute_result"
    }
   ],
   "execution_count": 10
  },
  {
   "metadata": {
    "ExecuteTime": {
     "end_time": "2024-12-08T09:07:24.201662Z",
     "start_time": "2024-12-08T09:07:24.190768Z"
    }
   },
   "cell_type": "code",
   "source": [
    "df_combined = pd.merge(df_combined, df_maxProdukcja[['date', 'solarMax']],  left_on='year', right_on='date', how='left')\n",
    "\n",
    "df_combined['efficiency'] = df_combined['solar'] / df_combined['solarMax']\n"
   ],
   "id": "f4b2860794d1e0b1",
   "outputs": [],
   "execution_count": 11
  },
  {
   "metadata": {
    "ExecuteTime": {
     "end_time": "2024-12-08T09:07:24.303330Z",
     "start_time": "2024-12-08T09:07:24.280531Z"
    }
   },
   "cell_type": "code",
   "source": "df_combined.head()",
   "id": "e43a7d3c469c02fa",
   "outputs": [
    {
     "data": {
      "text/plain": [
       "       index       solar                 Date   QQ  year  date  solarMax  \\\n",
       "0 2020-04-10  338.375000  2020-04-10 00:00:00  237  2020  2020    1310.0   \n",
       "1 2020-04-11  362.333333  2020-04-11 00:00:00  245  2020  2020    1310.0   \n",
       "2 2020-04-12  318.750000  2020-04-12 00:00:00  253  2020  2020    1310.0   \n",
       "3 2020-04-13  141.625000  2020-04-13 00:00:00  137  2020  2020    1310.0   \n",
       "4 2020-04-14  201.208333  2020-04-14 00:00:00  183  2020  2020    1310.0   \n",
       "\n",
       "   efficiency  \n",
       "0    0.258302  \n",
       "1    0.276590  \n",
       "2    0.243321  \n",
       "3    0.108111  \n",
       "4    0.153594  "
      ],
      "text/html": [
       "<div>\n",
       "<style scoped>\n",
       "    .dataframe tbody tr th:only-of-type {\n",
       "        vertical-align: middle;\n",
       "    }\n",
       "\n",
       "    .dataframe tbody tr th {\n",
       "        vertical-align: top;\n",
       "    }\n",
       "\n",
       "    .dataframe thead th {\n",
       "        text-align: right;\n",
       "    }\n",
       "</style>\n",
       "<table border=\"1\" class=\"dataframe\">\n",
       "  <thead>\n",
       "    <tr style=\"text-align: right;\">\n",
       "      <th></th>\n",
       "      <th>index</th>\n",
       "      <th>solar</th>\n",
       "      <th>Date</th>\n",
       "      <th>QQ</th>\n",
       "      <th>year</th>\n",
       "      <th>date</th>\n",
       "      <th>solarMax</th>\n",
       "      <th>efficiency</th>\n",
       "    </tr>\n",
       "  </thead>\n",
       "  <tbody>\n",
       "    <tr>\n",
       "      <th>0</th>\n",
       "      <td>2020-04-10</td>\n",
       "      <td>338.375000</td>\n",
       "      <td>2020-04-10 00:00:00</td>\n",
       "      <td>237</td>\n",
       "      <td>2020</td>\n",
       "      <td>2020</td>\n",
       "      <td>1310.0</td>\n",
       "      <td>0.258302</td>\n",
       "    </tr>\n",
       "    <tr>\n",
       "      <th>1</th>\n",
       "      <td>2020-04-11</td>\n",
       "      <td>362.333333</td>\n",
       "      <td>2020-04-11 00:00:00</td>\n",
       "      <td>245</td>\n",
       "      <td>2020</td>\n",
       "      <td>2020</td>\n",
       "      <td>1310.0</td>\n",
       "      <td>0.276590</td>\n",
       "    </tr>\n",
       "    <tr>\n",
       "      <th>2</th>\n",
       "      <td>2020-04-12</td>\n",
       "      <td>318.750000</td>\n",
       "      <td>2020-04-12 00:00:00</td>\n",
       "      <td>253</td>\n",
       "      <td>2020</td>\n",
       "      <td>2020</td>\n",
       "      <td>1310.0</td>\n",
       "      <td>0.243321</td>\n",
       "    </tr>\n",
       "    <tr>\n",
       "      <th>3</th>\n",
       "      <td>2020-04-13</td>\n",
       "      <td>141.625000</td>\n",
       "      <td>2020-04-13 00:00:00</td>\n",
       "      <td>137</td>\n",
       "      <td>2020</td>\n",
       "      <td>2020</td>\n",
       "      <td>1310.0</td>\n",
       "      <td>0.108111</td>\n",
       "    </tr>\n",
       "    <tr>\n",
       "      <th>4</th>\n",
       "      <td>2020-04-14</td>\n",
       "      <td>201.208333</td>\n",
       "      <td>2020-04-14 00:00:00</td>\n",
       "      <td>183</td>\n",
       "      <td>2020</td>\n",
       "      <td>2020</td>\n",
       "      <td>1310.0</td>\n",
       "      <td>0.153594</td>\n",
       "    </tr>\n",
       "  </tbody>\n",
       "</table>\n",
       "</div>"
      ]
     },
     "execution_count": 12,
     "metadata": {},
     "output_type": "execute_result"
    }
   ],
   "execution_count": 12
  },
  {
   "metadata": {
    "ExecuteTime": {
     "end_time": "2024-12-08T09:07:24.439460Z",
     "start_time": "2024-12-08T09:07:24.428810Z"
    }
   },
   "cell_type": "code",
   "source": [
    "df_combined.reset_index(inplace=True) \n",
    "\n",
    "# df_combined.head()"
   ],
   "id": "a8443839ff237b45",
   "outputs": [],
   "execution_count": 13
  },
  {
   "metadata": {
    "ExecuteTime": {
     "end_time": "2024-12-08T09:07:24.551823Z",
     "start_time": "2024-12-08T09:07:24.543889Z"
    }
   },
   "cell_type": "code",
   "source": "print(df_combined.columns)",
   "id": "9c3c4ab624e7e377",
   "outputs": [
    {
     "name": "stdout",
     "output_type": "stream",
     "text": [
      "Index(['level_0', 'index', 'solar', 'Date', 'QQ', 'year', 'date', 'solarMax',\n",
      "       'efficiency'],\n",
      "      dtype='object')\n"
     ]
    }
   ],
   "execution_count": 14
  },
  {
   "metadata": {
    "ExecuteTime": {
     "end_time": "2024-12-08T09:07:24.696201Z",
     "start_time": "2024-12-08T09:07:24.681325Z"
    }
   },
   "cell_type": "code",
   "source": "df_combined.head()",
   "id": "c279952af73de0a8",
   "outputs": [
    {
     "data": {
      "text/plain": [
       "   level_0      index       solar                 Date   QQ  year  date  \\\n",
       "0        0 2020-04-10  338.375000  2020-04-10 00:00:00  237  2020  2020   \n",
       "1        1 2020-04-11  362.333333  2020-04-11 00:00:00  245  2020  2020   \n",
       "2        2 2020-04-12  318.750000  2020-04-12 00:00:00  253  2020  2020   \n",
       "3        3 2020-04-13  141.625000  2020-04-13 00:00:00  137  2020  2020   \n",
       "4        4 2020-04-14  201.208333  2020-04-14 00:00:00  183  2020  2020   \n",
       "\n",
       "   solarMax  efficiency  \n",
       "0    1310.0    0.258302  \n",
       "1    1310.0    0.276590  \n",
       "2    1310.0    0.243321  \n",
       "3    1310.0    0.108111  \n",
       "4    1310.0    0.153594  "
      ],
      "text/html": [
       "<div>\n",
       "<style scoped>\n",
       "    .dataframe tbody tr th:only-of-type {\n",
       "        vertical-align: middle;\n",
       "    }\n",
       "\n",
       "    .dataframe tbody tr th {\n",
       "        vertical-align: top;\n",
       "    }\n",
       "\n",
       "    .dataframe thead th {\n",
       "        text-align: right;\n",
       "    }\n",
       "</style>\n",
       "<table border=\"1\" class=\"dataframe\">\n",
       "  <thead>\n",
       "    <tr style=\"text-align: right;\">\n",
       "      <th></th>\n",
       "      <th>level_0</th>\n",
       "      <th>index</th>\n",
       "      <th>solar</th>\n",
       "      <th>Date</th>\n",
       "      <th>QQ</th>\n",
       "      <th>year</th>\n",
       "      <th>date</th>\n",
       "      <th>solarMax</th>\n",
       "      <th>efficiency</th>\n",
       "    </tr>\n",
       "  </thead>\n",
       "  <tbody>\n",
       "    <tr>\n",
       "      <th>0</th>\n",
       "      <td>0</td>\n",
       "      <td>2020-04-10</td>\n",
       "      <td>338.375000</td>\n",
       "      <td>2020-04-10 00:00:00</td>\n",
       "      <td>237</td>\n",
       "      <td>2020</td>\n",
       "      <td>2020</td>\n",
       "      <td>1310.0</td>\n",
       "      <td>0.258302</td>\n",
       "    </tr>\n",
       "    <tr>\n",
       "      <th>1</th>\n",
       "      <td>1</td>\n",
       "      <td>2020-04-11</td>\n",
       "      <td>362.333333</td>\n",
       "      <td>2020-04-11 00:00:00</td>\n",
       "      <td>245</td>\n",
       "      <td>2020</td>\n",
       "      <td>2020</td>\n",
       "      <td>1310.0</td>\n",
       "      <td>0.276590</td>\n",
       "    </tr>\n",
       "    <tr>\n",
       "      <th>2</th>\n",
       "      <td>2</td>\n",
       "      <td>2020-04-12</td>\n",
       "      <td>318.750000</td>\n",
       "      <td>2020-04-12 00:00:00</td>\n",
       "      <td>253</td>\n",
       "      <td>2020</td>\n",
       "      <td>2020</td>\n",
       "      <td>1310.0</td>\n",
       "      <td>0.243321</td>\n",
       "    </tr>\n",
       "    <tr>\n",
       "      <th>3</th>\n",
       "      <td>3</td>\n",
       "      <td>2020-04-13</td>\n",
       "      <td>141.625000</td>\n",
       "      <td>2020-04-13 00:00:00</td>\n",
       "      <td>137</td>\n",
       "      <td>2020</td>\n",
       "      <td>2020</td>\n",
       "      <td>1310.0</td>\n",
       "      <td>0.108111</td>\n",
       "    </tr>\n",
       "    <tr>\n",
       "      <th>4</th>\n",
       "      <td>4</td>\n",
       "      <td>2020-04-14</td>\n",
       "      <td>201.208333</td>\n",
       "      <td>2020-04-14 00:00:00</td>\n",
       "      <td>183</td>\n",
       "      <td>2020</td>\n",
       "      <td>2020</td>\n",
       "      <td>1310.0</td>\n",
       "      <td>0.153594</td>\n",
       "    </tr>\n",
       "  </tbody>\n",
       "</table>\n",
       "</div>"
      ]
     },
     "execution_count": 15,
     "metadata": {},
     "output_type": "execute_result"
    }
   ],
   "execution_count": 15
  },
  {
   "metadata": {
    "ExecuteTime": {
     "end_time": "2024-12-08T09:07:24.810229Z",
     "start_time": "2024-12-08T09:07:24.792463Z"
    }
   },
   "cell_type": "code",
   "source": [
    "df_combined = df_combined[['index', 'QQ', 'efficiency']]\n",
    "df_combined.max()"
   ],
   "id": "acdedd8f56ed8ea6",
   "outputs": [
    {
     "data": {
      "text/plain": [
       "index         2024-06-30 00:00:00\n",
       "QQ                            462\n",
       "efficiency               0.392525\n",
       "dtype: object"
      ]
     },
     "execution_count": 16,
     "metadata": {},
     "output_type": "execute_result"
    }
   ],
   "execution_count": 16
  },
  {
   "metadata": {
    "ExecuteTime": {
     "end_time": "2024-12-08T09:07:24.894716Z",
     "start_time": "2024-12-08T09:07:24.883838Z"
    }
   },
   "cell_type": "code",
   "source": [
    "\n",
    "df_combined.head()"
   ],
   "id": "e3caafe2ff31e64b",
   "outputs": [
    {
     "data": {
      "text/plain": [
       "       index   QQ  efficiency\n",
       "0 2020-04-10  237    0.258302\n",
       "1 2020-04-11  245    0.276590\n",
       "2 2020-04-12  253    0.243321\n",
       "3 2020-04-13  137    0.108111\n",
       "4 2020-04-14  183    0.153594"
      ],
      "text/html": [
       "<div>\n",
       "<style scoped>\n",
       "    .dataframe tbody tr th:only-of-type {\n",
       "        vertical-align: middle;\n",
       "    }\n",
       "\n",
       "    .dataframe tbody tr th {\n",
       "        vertical-align: top;\n",
       "    }\n",
       "\n",
       "    .dataframe thead th {\n",
       "        text-align: right;\n",
       "    }\n",
       "</style>\n",
       "<table border=\"1\" class=\"dataframe\">\n",
       "  <thead>\n",
       "    <tr style=\"text-align: right;\">\n",
       "      <th></th>\n",
       "      <th>index</th>\n",
       "      <th>QQ</th>\n",
       "      <th>efficiency</th>\n",
       "    </tr>\n",
       "  </thead>\n",
       "  <tbody>\n",
       "    <tr>\n",
       "      <th>0</th>\n",
       "      <td>2020-04-10</td>\n",
       "      <td>237</td>\n",
       "      <td>0.258302</td>\n",
       "    </tr>\n",
       "    <tr>\n",
       "      <th>1</th>\n",
       "      <td>2020-04-11</td>\n",
       "      <td>245</td>\n",
       "      <td>0.276590</td>\n",
       "    </tr>\n",
       "    <tr>\n",
       "      <th>2</th>\n",
       "      <td>2020-04-12</td>\n",
       "      <td>253</td>\n",
       "      <td>0.243321</td>\n",
       "    </tr>\n",
       "    <tr>\n",
       "      <th>3</th>\n",
       "      <td>2020-04-13</td>\n",
       "      <td>137</td>\n",
       "      <td>0.108111</td>\n",
       "    </tr>\n",
       "    <tr>\n",
       "      <th>4</th>\n",
       "      <td>2020-04-14</td>\n",
       "      <td>183</td>\n",
       "      <td>0.153594</td>\n",
       "    </tr>\n",
       "  </tbody>\n",
       "</table>\n",
       "</div>"
      ]
     },
     "execution_count": 17,
     "metadata": {},
     "output_type": "execute_result"
    }
   ],
   "execution_count": 17
  },
  {
   "metadata": {
    "ExecuteTime": {
     "end_time": "2024-12-08T09:07:25.093070Z",
     "start_time": "2024-12-08T09:07:25.072187Z"
    }
   },
   "cell_type": "code",
   "source": [
    "# Zapis do pliku CSV\n",
    "df_combined.to_csv('dataset.csv', index=False)  # index=False, aby nie zapisywać indeksu\n",
    "\n",
    "print(\"Plik CSV został zapisany jako 'dataset.csv'\")"
   ],
   "id": "a0c7fcfd4d1a0533",
   "outputs": [
    {
     "name": "stdout",
     "output_type": "stream",
     "text": [
      "Plik CSV został zapisany jako 'dataset.csv'\n"
     ]
    }
   ],
   "execution_count": 18
  },
  {
   "metadata": {
    "ExecuteTime": {
     "end_time": "2024-12-08T09:07:25.220318Z",
     "start_time": "2024-12-08T09:07:25.214293Z"
    }
   },
   "cell_type": "code",
   "source": "",
   "id": "93a8299cb8acf67c",
   "outputs": [],
   "execution_count": null
  }
 ],
 "metadata": {
  "kernelspec": {
   "display_name": "Python 3",
   "language": "python",
   "name": "python3"
  },
  "language_info": {
   "codemirror_mode": {
    "name": "ipython",
    "version": 2
   },
   "file_extension": ".py",
   "mimetype": "text/x-python",
   "name": "python",
   "nbconvert_exporter": "python",
   "pygments_lexer": "ipython2",
   "version": "2.7.6"
  }
 },
 "nbformat": 4,
 "nbformat_minor": 5
}
